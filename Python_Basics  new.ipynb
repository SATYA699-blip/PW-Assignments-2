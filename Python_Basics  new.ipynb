{
  "nbformat": 4,
  "nbformat_minor": 0,
  "metadata": {
    "colab": {
      "provenance": []
    },
    "kernelspec": {
      "name": "python3",
      "display_name": "Python 3"
    },
    "language_info": {
      "name": "python"
    }
  },
  "cells": [
    {
      "cell_type": "markdown",
      "source": [],
      "metadata": {
        "id": "HjEd0KUOc7fd"
      }
    },
    {
      "cell_type": "markdown",
      "source": [
        "\n",
        "\n",
        "# **Python Basic Questions**\n",
        "\n",
        "\n",
        "**1.What is Python, and why is it popular?**\n",
        "\n",
        "=> Python is a very recognized, interpreated programming language known for its readability, simplicity . It was created by Guido van Rossum in 1991.\n",
        "\n",
        "Python is popular because it's most attractive like simplicity and readability which makes it easier to learn for beginners, large standard library provides fuctions for various tasks, community support, versetality and cross-platform compatability allows developers to write and run the code on different operation system such as Windows,macOS,Linux, apart from these characters it has also a integration capability which makes python unique. Python easily integrate with other language like C,C++, JAVA ctc that makes it suitable for a wide range of applications.\n",
        "\n",
        "**2.What is an interpreter in Python?**\n",
        "\n",
        "=> An interpreter is a kind of programme in Python which executes and translating the python code directly in to machine code line by line or statement to statement.an interpreter processes the code at runtime.\n",
        "\n",
        "Key points of python interpreter is interactive mode, line-by-line execution,\n",
        "dynamic typing, cross platform compatability, built in functions and libraries.\n",
        "\n",
        "Types of interpreter in Python: \"Cpython\", \"PyPy\", \"Jython\"\n",
        "\n",
        "Example:\n",
        "\n",
        "  >>> 2 + 3\n",
        "\n",
        "  5\n",
        "\n",
        "  >>> name = \"Satyanarayanpal\"\n",
        "\n",
        "  >>> print(\"Hello,\", name)\n",
        "\n",
        "  Hello, Alice\n",
        "\n",
        "**3.What are pre-defined keywords in Python?**\n",
        "\n",
        "=>Pre-defined keywords are those kind of special words which have special and specific meanings. The keywords are reserved for the language's syntax and functionality, we cannot use the key word as variable. There are 35 keywords which are given below:  \n",
        "\n",
        "false, none, true, and, as , assert, async, await, break, class, continue, def, del, elif, else, except, finally, for, from, global, if, import, in, is, lambda, nonlocal, not, or, pass, raise, return, try, while, with.\n",
        "\n",
        "4.**Can keywords be used as variable names?**\n",
        "\n",
        "=>No. we can bot used keyword as a variable names The keywords are reserved for the language's syntax and functionality. If somebody uses keyword as variable names would lead lead to syntax error.\n",
        "\n",
        "**5.What is mutability in Python?**\n",
        "\n",
        "=>In Python mutability refers to the ability to be changed after it has been created . It is a kind of thing which can be modified later . Understanding mutability in python is very important because the mutablity is directly involve in the functionality of the program, if anything unknown change within the function  lead to affect the original object.\n",
        "\n",
        "Example: Lists, Dictionaries, Sets.\n",
        "\n",
        "**6.Why are lists mutable, but tuples are immutable?**\n",
        "\n",
        "=>In Python, lists are like flexible containers that you can change whenever you need. Imagine you have a shopping list; you can easily add items, remove things you no longer want, or even change the quantity of what you already have. This is what makes lists so useful—they’re designed for situations where the data might change frequently.\n",
        "\n",
        "On the other hand, tuples are more like a sealed box. Once you put items in a tuple, you can’t change them. This makes tuples great for situations where you want to ensure that the data stays constant, like when you’re representing a fixed set of values, such as coordinates or a record of information. Because tuples are immutable, they can be stored more efficiently in memory, which can help with performance, especially when dealing with large amounts of data. Plus, you can use tuples as keys in dictionaries or elements in sets because their contents won’t change, while lists can’t be used in that way.\n",
        "\n",
        "This distinction between lists and tuples is part of Python’s design philosophy, which values clarity and simplicity. By having these two types, it’s easier for you as a developer to express your intent in your code. For example, when you see a list, you know it’s meant to be modified, while a tuple signals that the data is meant to stay the same.\n",
        "\n",
        "**7.What is the difference between “==” and “is” operators in Python?**\n",
        "\n",
        "=>In Python, when you want to compare two things, you have two main options: the '==' operator and the 'is' operator, and they serve different purposes.\n",
        "\n",
        "The '==' operator checks if the values of two objects are the same.For example, if you have two lists that look identical, using '==' will tell you they are equal because their contents match, even if they are different objects in memory.\n",
        "\n",
        "On the other hand, the 'is' operator is all about identity. It checks whether two variables point to the exact same object in memory. So, if you have one list and you create another variable that refers to that same list, 'is' will confirm they are the same object. But if you create a new list with the same values, 'is' will say they are different, even though they look the same.\n",
        "\n",
        "In short, use '==' when you care about whether two things have the same value, and use 'is' when you want to know if they are actually the same object. This distinction is especially important when dealing with special cases like `None`, where you typically use 'is' to check if a variable is 'None' because it’s a singleton.\n",
        "\n",
        "**8.What are logical operators in Python?**\n",
        "\n",
        "=>In Python, logical operators are used to combine statements and evaluate their truth values. There are 3 main logical operators: 'and', 'or', 'not'.\n",
        "\n",
        "'and': Returns 'true'if both conditions are true.\n",
        "'or' : Returns if at least one condition is true.\n",
        "'not': Negates the truth value of the condition.\n",
        "\n",
        "example:\n",
        "\n",
        "'and'\n",
        "\n",
        "a = 10\n",
        "b = 20\n",
        "\n",
        "# both conditions must be true\n",
        "if a > 5 and b > 15:\n",
        "    print(\"both conditions are true.\")\n",
        "\n",
        "    # output Both conditions are true.\n",
        "\n",
        "'or'\n",
        "\n",
        "a = 10\n",
        "b = 5\n",
        "\n",
        "# At least one condition must be true\n",
        "if a > 15 or b < 10:\n",
        "    print(\"At least one condition is true.\")\n",
        "\n",
        "    # output At least one condition is true.\n",
        "\n",
        "\n",
        "'not'\n",
        "\n",
        "a = True\n",
        "\n",
        "# Negating the truth value\n",
        "if not a:\n",
        "    print(\"This will not be printed.\")\n",
        "else:\n",
        "    print(\"The condition is true.\")\n",
        "\n",
        "    # output The condition is true.\n",
        "\n",
        "**9.What is type casting in Python?**\n",
        "\n",
        "=> Type casting is a process in Python by which converting a variable from one data type to another .\n",
        "\n",
        "Types of type casting in Python:\n",
        "\n",
        "I. 'int()': Converts a value to an integer.\n",
        "\n",
        "Example:\n",
        "\n",
        "num_str = \"10\"\n",
        "num_int = int(num_str)  \n",
        "print(num_int)  \n",
        "# Output: 10\n",
        "\n",
        "II. 'float()' : Converts a value to a float.\n",
        "\n",
        "num_int = 5\n",
        "num_float = float(num_int)  \n",
        "print(num_float)  \n",
        "# Output: 5.0\n",
        "\n",
        "III. 'str()' : Converts a value to a string.\n",
        "\n",
        "num = 42\n",
        "num_str = str(num)  \n",
        "print(num_str)  \n",
        "\n",
        "# Output: \"42\"\n",
        "\n",
        "IV. 'list()' : Converts an string, tuple, or set into a list.\n",
        "\n",
        "my_tuple = (1, 2, 3)\n",
        "my_list = list(my_tuple)  \n",
        "print(my_list)  \n",
        "\n",
        "# Output: [1, 2, 3]\n",
        "\n",
        "\n",
        "V. 'tuple()' :  \n",
        "\n",
        "my_list = [1, 2, 3]\n",
        "my_tuple = tuple(my_list)  \n",
        "print(my_tuple)\n",
        "\n",
        "# Output: (1, 2, 3)\n",
        "\n",
        "VI. 'set()' :\n",
        "\n",
        "my_list = [1, 2, 2, 3]\n",
        "my_set = set(my_list)  \n",
        "print(my_set)  \n",
        "\n",
        "# Output: {1, 2, 3}\n",
        "\n",
        "**10.What is the difference between implicit and explicit type casting?**\n",
        "\n",
        "=> To know the difference between implicit and explicit type casting si important for writing clear and effective code.\n",
        "\n",
        "i. The implicit type casting allows automatic conversion by the interpreter and the explicit type casting allows manual conversion by the programmer.\n",
        "\n",
        "ii. The implicit type casting conversion has no control over conversion and explicit type casting has full control over conversion.\n",
        "\n",
        "iii. Implicit type casting generally safe, no data lossand explicit type casting may have potential for data loss.\n",
        "\n",
        "iv. Implicit type casting is common in arithmetic operation and on the other hand explicit type casting is used when specific type is required.\n",
        "\n",
        "v.Example :  \n",
        "Implicit type casting\n",
        "\n",
        "a = 5 # Integer\n",
        "b = 2.0 # Float\n",
        "result = a + b  # Implicitly converts 'a' to float\n",
        "print(result)  \n",
        "# Output: 7.0\n",
        "\n",
        "Explicit type casting\n",
        "\n",
        "num_str = \"10\"\n",
        "num_int = int(num_str)  # Explicitly converts string to integer\n",
        "print(num_int)  \n",
        "\n",
        "# Output: 10\n",
        "\n",
        "\n",
        "**11.What is the purpose of conditional statements in Python?**\n",
        "\n",
        "=>Conditional statements in Python are used in defining the blocks of code that are executed when a specific condition evaluates to true or false. They enable a programmer to formulate the logic decision in the code, thus allowing the program to behave differently in some situations. The main objectives and characteristics of conditional statements in Python are the following:\n",
        "\n",
        " i. **Decision Making**\n",
        "  \n",
        "First and foremost, the role of the conditional statements is to enable a program to make a decision. That is by satisfying certain conditions; the flow of the program can adjust according to the predetermined conditions. In this way, the program responds differently to different inputs or states of the program.\n",
        "\n",
        " ii. **Control Flow**\n",
        "\n",
        "The conditional statements assist the program in controlling the flow of a program. This is the process of which parts of the code should be executed relative to the logical conditions. This is vital for any applications that are meant to be interactive and flexible.\n",
        "\n",
        " iii. **Syntax and Structure**\n",
        "\n",
        "In Python, main conditional statements include if, elif and else. Here is a brief description of each one:\n",
        "\n",
        "   **'if' Statement**: This condition checks whether an argument or a condition when passed is correct or false. In the case its true the content of the if block gets executed.\n",
        "\n",
        "'''python\n",
        "age = 18\n",
        "if age >= 18:\n",
        "   print('You are an adult')\n",
        "'''\n",
        "\n",
        "**'elif' Statement**: Short for else if, this kind of.\n",
        "\n",
        "if age < 13:\n",
        "    print(\"You are a child.\")\n",
        "elif age < 18:\n",
        "    print(\"You are a teenager.\")\n",
        "\n",
        " iv. **Handling Multiple Conditions**\n",
        "\n",
        "Conditional statement can handle multiple condition using logical operators.\n",
        "\n",
        "temperature = 30\n",
        "if temperature > 25 and temperature < 35:\n",
        "    print(\"It's a warm day.\")\n",
        "\n",
        "\n",
        "  **v. Improving Code Readability**\n",
        "By using conditional statement we can make the code more readable and well maintained by which we can define certain conditions under which certail action occurs.\n",
        "\n",
        "In conclusion, conditional statements in Python are essential for implementing decision-making logic in your programs.\n",
        "\n",
        "\n",
        "\n",
        "**12. How does the elif statement work?**\n",
        "\n",
        "=> The `elif` statement in Python is short for \"else if\" and is used to check various conditions. Sequentially in a conditional statement, if the previous `if` condition is false. You can evaluate additional conditions. This is especially useful when you have more than two possible outcomes to consider.\n",
        "\n",
        "### How `elif` works\n",
        "\n",
        "1. **Sequential Evaluation**: When you use `if`, `elif` and `else` together, Python evaluates conditions in the order they are written. It starts with an `if` statement and executes the corresponding code block if the condition is true. If the `if` condition is false, the condition is passed to the `elif` condition initially.\n",
        "\n",
        "2. **Multiple conditions**: You can have multiple `elif` statements after an 'if' statement. Each `elif` can check a different condition. If which `elif` condition One is estimated to be true. The relevant code block will be executed. and the rest of the 'elif' command is ignored.\n",
        "\n",
        "3. **Final 'else'**: You can also include an 'else' statement at the end, which will be executed if none of the previous conditions ('if' or 'elif') are true.\n",
        "\n",
        "In conclusion, The elif statement is a powerful tool in Python for handling multiple conditions in a clear and organized manner.\n",
        "\n",
        "\n",
        "**13.What is the difference between for and while loops?**\n",
        "\n",
        "=> In Python, both for loops and while loops are used for iteration, but they serve different purposes and have distinct characteristics. Here's a breakdown of the differences between the two:\n",
        "\n",
        " i. In case of for Loop it iterates over a sequence  or iterable and while loops\n",
        "Repeats as long as a condition is true.\n",
        "\n",
        " ii. In case of for loop Automatically handles iteration and in while loop\tRequires manual control of the loop variable.\n",
        "\n",
        " iii.In case of for loop Terminates when the iterable is exhausted\tand in case of while loop terminates when the condition is false.\n",
        "\n",
        "\n",
        "**14.  Describe a scenario where a while loop is more suitable than a for loop.**\n",
        "\n",
        "=> A **'while' loop** is more suitable than a **'for' loop** in scenarios where the number of iterations is not known in advance and depends on a condition being met dynamically during execution. For example, consider a password validation program where the user must input the correct password to gain access. Since the number of attempts required cannot be determined beforehand, a **`while` loop** can be used to repeatedly prompt the user until the correct password is entered. This ensures that the program keeps running as long as the condition (e.g., incorrect password) remains true and stops immediately once the user provides the correct input. In contrast, a **'for` loop** is less suitable because it is designed for a fixed number of iterations or for iterating over a sequence. Using a **`for` loop** in this case would require imposing an arbitrary limit on the number of attempts, which could make the program less flexible and less aligned with the dynamic nature of the task. Thus, a **'while' loop** is the better choice for scenarios like this.\n",
        "\n",
        "\n",
        "# Practical Questions"
      ],
      "metadata": {
        "id": "uaiwruNidf69"
      }
    },
    {
      "cell_type": "code",
      "source": [
        "# This program prints \"Hello, World!\"\n",
        "print(\"Hello, World!\")"
      ],
      "metadata": {
        "colab": {
          "base_uri": "https://localhost:8080/"
        },
        "id": "wrBEMdXej44L",
        "outputId": "ecb701d8-3d11-464d-c056-e7e1d901057c"
      },
      "execution_count": 1,
      "outputs": [
        {
          "output_type": "stream",
          "name": "stdout",
          "text": [
            "Hello, World!\n"
          ]
        }
      ]
    },
    {
      "cell_type": "code",
      "source": [
        "# This program displays the user's name and age\n",
        "name = \" Satyanarayan Pal\"\n",
        "age = \"25 years \"\n",
        "\n",
        "print(\"Name:\", name)\n",
        "print(\"Age:\", age)"
      ],
      "metadata": {
        "colab": {
          "base_uri": "https://localhost:8080/"
        },
        "id": "dqBewO_Pk2dP",
        "outputId": "811f3f11-b8a5-4b7c-8088-d615e2abb609"
      },
      "execution_count": 4,
      "outputs": [
        {
          "output_type": "stream",
          "name": "stdout",
          "text": [
            "Name:  Satyanarayan Pal\n",
            "Age: 25 years \n"
          ]
        }
      ]
    },
    {
      "cell_type": "code",
      "source": [
        "import keyword\n",
        "\n",
        "#  All predefined keywords in Python\n",
        "keywords = keyword.kwlist\n",
        "print(\"Python Keywords:\")\n",
        "for kw in keywords:\n",
        "    print(kw)"
      ],
      "metadata": {
        "colab": {
          "base_uri": "https://localhost:8080/"
        },
        "id": "vSZAxRkklhdu",
        "outputId": "98c96eba-4dc3-4c20-e17e-139faaa3b8ba"
      },
      "execution_count": 5,
      "outputs": [
        {
          "output_type": "stream",
          "name": "stdout",
          "text": [
            "Python Keywords:\n",
            "False\n",
            "None\n",
            "True\n",
            "and\n",
            "as\n",
            "assert\n",
            "async\n",
            "await\n",
            "break\n",
            "class\n",
            "continue\n",
            "def\n",
            "del\n",
            "elif\n",
            "else\n",
            "except\n",
            "finally\n",
            "for\n",
            "from\n",
            "global\n",
            "if\n",
            "import\n",
            "in\n",
            "is\n",
            "lambda\n",
            "nonlocal\n",
            "not\n",
            "or\n",
            "pass\n",
            "raise\n",
            "return\n",
            "try\n",
            "while\n",
            "with\n",
            "yield\n"
          ]
        }
      ]
    },
    {
      "cell_type": "code",
      "source": [
        "# Creating a list\n",
        "my_list = [1, 2, 3, 4, 5]\n",
        "print(\"Original List:\", my_list)\n",
        "\n",
        "# Attempting to change an element in the list\n",
        "my_list[2] = 20\n",
        "print(\"Modified List:\", my_list)\n",
        "\n",
        "# Creating a tuple\n",
        "my_tuple = (1, 2, 3, 4, 5)\n",
        "print(\"Original Tuple:\", my_tuple)\n",
        "\n",
        "# Attempting to change an element in the tuple\n",
        "try:\n",
        "    my_tuple[2] = 20\n",
        "except TypeError as e:\n",
        "    print(\"Error:\", e)"
      ],
      "metadata": {
        "colab": {
          "base_uri": "https://localhost:8080/"
        },
        "id": "GvGDKz0XmlEl",
        "outputId": "3d03b273-e35c-487e-e95a-7e9e58a96815"
      },
      "execution_count": 13,
      "outputs": [
        {
          "output_type": "stream",
          "name": "stdout",
          "text": [
            "Original List: [1, 2, 3, 4, 5]\n",
            "Modified List: [1, 2, 20, 4, 5]\n",
            "Original Tuple: (1, 2, 3, 4, 5)\n",
            "Error: 'tuple' object does not support item assignment\n"
          ]
        }
      ]
    },
    {
      "cell_type": "code",
      "source": [
        "import keyword\n",
        "\n",
        "# Function to check if a word is a Python keyword\n",
        "def is_keyword(word):\n",
        "    return word in keyword.kwlist\n",
        "\n",
        "# Get user input\n",
        "user_input = input(\"Enter a word to check if it's a Python keyword: \")\n",
        "\n",
        "# Check if the input word is a keyword\n",
        "if is_keyword(user_input):\n",
        "    print(f'\"{user_input}\" is a Python keyword.')\n",
        "else:\n",
        "    print(f'\"{user_input}\" is not a Python keyword.')"
      ],
      "metadata": {
        "colab": {
          "base_uri": "https://localhost:8080/"
        },
        "id": "k2XqlGbinXJI",
        "outputId": "4f156981-ccab-4b4c-a00d-9151961e636b"
      },
      "execution_count": 10,
      "outputs": [
        {
          "output_type": "stream",
          "name": "stdout",
          "text": [
            "Enter a word to check if it's a Python keyword: else\n",
            "\"else\" is a Python keyword.\n"
          ]
        }
      ]
    },
    {
      "cell_type": "code",
      "source": [
        "def demonstrate_mutability(mutable_arg, immutable_arg):\n",
        "    print(\"Before modification:\")\n",
        "    print(\"Mutable argument (list):\", mutable_arg)\n",
        "    print(\"Immutable argument (integer):\", immutable_arg)\n",
        "\n",
        "    # Modifying the mutable argument\n",
        "    mutable_arg.append(100)\n",
        "    print(\"\\nAfter modifying the mutable argument:\")\n",
        "    print(\"Mutable argument (list):\", mutable_arg)\n",
        "\n",
        "    # Attempting to modify the immutable argument\n",
        "    immutable_arg += 10\n",
        "    print(\"After modifying the immutable argument:\")\n",
        "    print(\"Immutable argument (integer):\", immutable_arg)\n",
        "\n",
        "# Create a mutable argument (list) and an immutable argument (integer)\n",
        "my_list = [1, 2, 3]\n",
        "my_integer = 5\n",
        "\n",
        "# Call the function\n",
        "demonstrate_mutability(my_list, my_integer)\n",
        "\n",
        "# Show the original arguments after the function call\n",
        "print(\"\\nOriginal arguments after function call:\")\n",
        "print(\"Original list:\", my_list)\n",
        "print(\"Original integer:\", my_integer)"
      ],
      "metadata": {
        "colab": {
          "base_uri": "https://localhost:8080/"
        },
        "id": "5Fw7bxS3oiMD",
        "outputId": "8fe7b3cb-4fcf-4571-a9c6-b96765e3957d"
      },
      "execution_count": 11,
      "outputs": [
        {
          "output_type": "stream",
          "name": "stdout",
          "text": [
            "Before modification:\n",
            "Mutable argument (list): [1, 2, 3]\n",
            "Immutable argument (integer): 5\n",
            "\n",
            "After modifying the mutable argument:\n",
            "Mutable argument (list): [1, 2, 3, 100]\n",
            "After modifying the immutable argument:\n",
            "Immutable argument (integer): 15\n",
            "\n",
            "Original arguments after function call:\n",
            "Original list: [1, 2, 3, 100]\n",
            "Original integer: 5\n"
          ]
        }
      ]
    },
    {
      "cell_type": "code",
      "source": [
        "def demonstrate_mutability(mutable_arg, immutable_arg):\n",
        "    print(\"Before modification:\")\n",
        "    print(\"Mutable argument (list):\", mutable_arg)\n",
        "    print(\"Immutable argument (integer):\", immutable_arg)\n",
        "\n",
        "    # Modifying the mutable argument\n",
        "    mutable_arg.append(50)\n",
        "    print(\"\\nAfter modifying the mutable argument:\")\n",
        "    print(\"Mutable argument (list):\", mutable_arg)\n",
        "\n",
        "    # Attempting to modify the immutable argument\n",
        "    immutable_arg += 10\n",
        "    print(\"After modifying the immutable argument:\")\n",
        "    print(\"Immutable argument (integer):\", immutable_arg)\n",
        "\n",
        "# A mutable argument (list) and an immutable argument (integer)\n",
        "my_list = [1, 2, 3]\n",
        "my_integer = 5\n",
        "demonstrate_mutability(my_list, my_integer)\n",
        "\n",
        "print(\"\\nOriginal arguments after function call:\")\n",
        "print(\"Original list:\", my_list)\n",
        "print(\"Original integer:\", my_integer)"
      ],
      "metadata": {
        "colab": {
          "base_uri": "https://localhost:8080/"
        },
        "id": "rKkFq8QmppSc",
        "outputId": "f19e4c5a-b250-4794-e928-420d2da83610"
      },
      "execution_count": 15,
      "outputs": [
        {
          "output_type": "stream",
          "name": "stdout",
          "text": [
            "Before modification:\n",
            "Mutable argument (list): [1, 2, 3]\n",
            "Immutable argument (integer): 5\n",
            "\n",
            "After modifying the mutable argument:\n",
            "Mutable argument (list): [1, 2, 3, 50]\n",
            "After modifying the immutable argument:\n",
            "Immutable argument (integer): 15\n",
            "\n",
            "Original arguments after function call:\n",
            "Original list: [1, 2, 3, 50]\n",
            "Original integer: 5\n"
          ]
        }
      ]
    },
    {
      "cell_type": "code",
      "source": [
        "# Define some sample variables\n",
        "a = True\n",
        "b = False\n",
        "c = True\n",
        "\n",
        "# Demonstrating the 'and' operator\n",
        "print(\"Logical AND:\")\n",
        "print(f\"a and b: {a and b}\")\n",
        "print(f\"a and c: {a and c}\")\n",
        "print(f\"b and c: {b and c}\")\n",
        "\n",
        "# Demonstrating the 'or' operator\n",
        "print(\"\\nLogical OR:\")\n",
        "print(f\"a or b: {a or b}\")\n",
        "print(f\"a or c: {a or c}\")\n",
        "print(f\"b or c: {b or c}\")\n",
        "\n",
        "# Demonstrating the 'not' operator\n",
        "print(\"\\nLogical NOT:\")\n",
        "print(f\"not a: {not a}\")\n",
        "print(f\"not b: {not b}\")\n",
        "print(f\"not c: {not c}\")\n",
        "\n",
        "# Combining logical operators\n",
        "print(\"\\nCombining Logical Operators:\")\n",
        "print(f\"(a and b) or c: {(a and b) or c}\")\n",
        "print(f\"not (a or b): {not (a or b)}\")\n",
        "print(f\"not a and b: {not a and b}\")"
      ],
      "metadata": {
        "colab": {
          "base_uri": "https://localhost:8080/"
        },
        "id": "Mx2mG_ngqPde",
        "outputId": "4f10e828-409c-45ae-a74d-5116827da577"
      },
      "execution_count": 16,
      "outputs": [
        {
          "output_type": "stream",
          "name": "stdout",
          "text": [
            "Logical AND:\n",
            "a and b: False\n",
            "a and c: True\n",
            "b and c: False\n",
            "\n",
            "Logical OR:\n",
            "a or b: True\n",
            "a or c: True\n",
            "b or c: True\n",
            "\n",
            "Logical NOT:\n",
            "not a: False\n",
            "not b: True\n",
            "not c: False\n",
            "\n",
            "Combining Logical Operators:\n",
            "(a and b) or c: True\n",
            "not (a or b): False\n",
            "not a and b: False\n"
          ]
        }
      ]
    },
    {
      "cell_type": "code",
      "source": [
        "# Function to convert user input to different types\n",
        "def convert_user_input(user_input):\n",
        "    print(f\"\\nConverting input: '{user_input}'\")\n",
        "\n",
        "    # Convert to integer\n",
        "    try:\n",
        "        int_value = int(user_input)\n",
        "        print(f\"Integer value: {int_value}\")\n",
        "    except ValueError:\n",
        "        print(\"Error: Cannot convert to integer.\")\n",
        "\n",
        "    # Convert to float\n",
        "    try:\n",
        "        float_value = float(user_input)\n",
        "        print(f\"Float value: {float_value}\")\n",
        "    except ValueError:\n",
        "        print(\"Error: Cannot convert to float.\")\n",
        "\n",
        "    # Convert to boolean\n",
        "    # For boolean conversion, any non-empty string is considered True\n",
        "    bool_value = bool(user_input)\n",
        "    print(f\"Boolean value: {bool_value}\")\n",
        "\n",
        "# List of predefined values to test\n",
        "test_values = [\"42\", \"3.14\", \"hello\", \"\", \"True\", \"False\", \"100\", \"0\", \"-5\"]\n",
        "\n",
        "# Call the function for each predefined value\n",
        "if __name__ == \"__main__\":\n",
        "    for value in test_values:\n",
        "        convert_user_input(value)"
      ],
      "metadata": {
        "colab": {
          "base_uri": "https://localhost:8080/"
        },
        "id": "sOMoNaver_JC",
        "outputId": "c37d3059-6a28-49a1-94d9-af362ebf4827"
      },
      "execution_count": 19,
      "outputs": [
        {
          "output_type": "stream",
          "name": "stdout",
          "text": [
            "\n",
            "Converting input: '42'\n",
            "Integer value: 42\n",
            "Float value: 42.0\n",
            "Boolean value: True\n",
            "\n",
            "Converting input: '3.14'\n",
            "Error: Cannot convert to integer.\n",
            "Float value: 3.14\n",
            "Boolean value: True\n",
            "\n",
            "Converting input: 'hello'\n",
            "Error: Cannot convert to integer.\n",
            "Error: Cannot convert to float.\n",
            "Boolean value: True\n",
            "\n",
            "Converting input: ''\n",
            "Error: Cannot convert to integer.\n",
            "Error: Cannot convert to float.\n",
            "Boolean value: False\n",
            "\n",
            "Converting input: 'True'\n",
            "Error: Cannot convert to integer.\n",
            "Error: Cannot convert to float.\n",
            "Boolean value: True\n",
            "\n",
            "Converting input: 'False'\n",
            "Error: Cannot convert to integer.\n",
            "Error: Cannot convert to float.\n",
            "Boolean value: True\n",
            "\n",
            "Converting input: '100'\n",
            "Integer value: 100\n",
            "Float value: 100.0\n",
            "Boolean value: True\n",
            "\n",
            "Converting input: '0'\n",
            "Integer value: 0\n",
            "Float value: 0.0\n",
            "Boolean value: True\n",
            "\n",
            "Converting input: '-5'\n",
            "Integer value: -5\n",
            "Float value: -5.0\n",
            "Boolean value: True\n"
          ]
        }
      ]
    },
    {
      "cell_type": "code",
      "source": [
        "# Function to demonstrate type casting with list elements\n",
        "def demonstrate_type_casting():\n",
        "    # Create a list with mixed types\n",
        "    mixed_list = [\"1\", \"2.5\", \"3\", 4, 5.0, \"6.7\"]\n",
        "\n",
        "    print(\"Original list:\", mixed_list)\n",
        "\n",
        "    # Convert all elements to integers\n",
        "    int_list = []\n",
        "    for item in mixed_list:\n",
        "        try:\n",
        "            int_list.append(int(float(item)))\n",
        "        except ValueError:\n",
        "            int_list.append(None)\n",
        "\n",
        "    print(\"List converted to integers:\", int_list)\n",
        "\n",
        "    # Convert all elements to floats\n",
        "    float_list = []\n",
        "    for item in mixed_list:\n",
        "        try:\n",
        "            float_list.append(float(item))\n",
        "        except ValueError:\n",
        "            float_list.append(None)\n",
        "\n",
        "    print(\"List converted to floats:\", float_list)\n",
        "\n",
        "    # Convert all elements to strings\n",
        "    str_list = [str(item) for item in mixed_list]\n",
        "    print(\"List converted to strings:\", str_list)\n",
        "\n",
        "#  the function\n",
        "if __name__ == \"__main__\":\n",
        "    demonstrate_type_casting()"
      ],
      "metadata": {
        "colab": {
          "base_uri": "https://localhost:8080/"
        },
        "id": "y8lzT2VEsJ-S",
        "outputId": "9251c328-8190-4369-9818-5e33e0b92b97"
      },
      "execution_count": 21,
      "outputs": [
        {
          "output_type": "stream",
          "name": "stdout",
          "text": [
            "Original list: ['1', '2.5', '3', 4, 5.0, '6.7']\n",
            "List converted to integers: [1, 2, 3, 4, 5, 6]\n",
            "List converted to floats: [1.0, 2.5, 3.0, 4.0, 5.0, 6.7]\n",
            "List converted to strings: ['1', '2.5', '3', '4', '5.0', '6.7']\n"
          ]
        }
      ]
    },
    {
      "cell_type": "code",
      "source": [
        "# Function to check if a number is positive, negative, or zero\n",
        "def check_number():\n",
        "    # Get user input\n",
        "    user_input = input(\"Enter a number: \")\n",
        "\n",
        "    try:\n",
        "        # Convert the input to a float\n",
        "        number = float(user_input)\n",
        "\n",
        "        # Check if the number is positive, negative, or zero\n",
        "        if number > 0:\n",
        "            print(\"The number is positive.\")\n",
        "        elif number < 0:\n",
        "            print(\"The number is negative.\")\n",
        "        else:\n",
        "            print(\"The number is zero.\")\n",
        "    except ValueError:\n",
        "        print(\"Error: Please enter a valid number.\")\n",
        "\n",
        "# Call the function\n",
        "if __name__ == \"__main__\":\n",
        "    check_number()"
      ],
      "metadata": {
        "colab": {
          "base_uri": "https://localhost:8080/"
        },
        "id": "_6KWFJirsuHE",
        "outputId": "d001ff21-e4f8-4241-c0c7-60b7420a5712"
      },
      "execution_count": 26,
      "outputs": [
        {
          "output_type": "stream",
          "name": "stdout",
          "text": [
            "Enter a number: 6.2\n",
            "The number is positive.\n"
          ]
        }
      ]
    },
    {
      "cell_type": "code",
      "source": [
        "# Using a for loop to print numbers from 1 to 100\n",
        "for number in range(1, 101):\n",
        "    print(number)"
      ],
      "metadata": {
        "colab": {
          "base_uri": "https://localhost:8080/"
        },
        "id": "lNDp3pmttG4E",
        "outputId": "ec8fe368-c332-44f0-e1e3-ec9f699aaccd"
      },
      "execution_count": 29,
      "outputs": [
        {
          "output_type": "stream",
          "name": "stdout",
          "text": [
            "1\n",
            "2\n",
            "3\n",
            "4\n",
            "5\n",
            "6\n",
            "7\n",
            "8\n",
            "9\n",
            "10\n",
            "11\n",
            "12\n",
            "13\n",
            "14\n",
            "15\n",
            "16\n",
            "17\n",
            "18\n",
            "19\n",
            "20\n",
            "21\n",
            "22\n",
            "23\n",
            "24\n",
            "25\n",
            "26\n",
            "27\n",
            "28\n",
            "29\n",
            "30\n",
            "31\n",
            "32\n",
            "33\n",
            "34\n",
            "35\n",
            "36\n",
            "37\n",
            "38\n",
            "39\n",
            "40\n",
            "41\n",
            "42\n",
            "43\n",
            "44\n",
            "45\n",
            "46\n",
            "47\n",
            "48\n",
            "49\n",
            "50\n",
            "51\n",
            "52\n",
            "53\n",
            "54\n",
            "55\n",
            "56\n",
            "57\n",
            "58\n",
            "59\n",
            "60\n",
            "61\n",
            "62\n",
            "63\n",
            "64\n",
            "65\n",
            "66\n",
            "67\n",
            "68\n",
            "69\n",
            "70\n",
            "71\n",
            "72\n",
            "73\n",
            "74\n",
            "75\n",
            "76\n",
            "77\n",
            "78\n",
            "79\n",
            "80\n",
            "81\n",
            "82\n",
            "83\n",
            "84\n",
            "85\n",
            "86\n",
            "87\n",
            "88\n",
            "89\n",
            "90\n",
            "91\n",
            "92\n",
            "93\n",
            "94\n",
            "95\n",
            "96\n",
            "97\n",
            "98\n",
            "99\n",
            "100\n"
          ]
        }
      ]
    },
    {
      "cell_type": "code",
      "source": [
        "# Initialize the sum variable\n",
        "sum_of_evens = 0\n",
        "\n",
        "# Loop through numbers from 1 to 50\n",
        "for number in range(1, 51):\n",
        "    # Check if the number is even\n",
        "    if number % 2 == 0:\n",
        "        sum_of_evens += number\n",
        "\n",
        "# Print the result\n",
        "print(\"The sum of all even numbers between 1 and 50 is:\", sum_of_evens)"
      ],
      "metadata": {
        "colab": {
          "base_uri": "https://localhost:8080/"
        },
        "id": "ZRJb8m8UtxZE",
        "outputId": "4d9a659f-0c05-46ad-aa7d-9193dc4c2ca1"
      },
      "execution_count": 30,
      "outputs": [
        {
          "output_type": "stream",
          "name": "stdout",
          "text": [
            "The sum of all even numbers between 1 and 50 is: 650\n"
          ]
        }
      ]
    },
    {
      "cell_type": "code",
      "source": [
        "# Function to reverse a string using a while loop\n",
        "def reverse_string():\n",
        "    # Get user input\n",
        "    user_input = input(\"Enter a string to reverse: \")\n",
        "\n",
        "    # Initialize variables\n",
        "    reversed_string = \"\"\n",
        "    index = len(user_input) - 1\n",
        "\n",
        "    # Use a while loop to reverse the string\n",
        "    while index >= 0:\n",
        "        reversed_string += user_input[index]\n",
        "        index -= 1  # Move to the previous character\n",
        "\n",
        "    # Print the reversed string\n",
        "    print(\"Reversed string:\", reversed_string)\n",
        "\n",
        "# Call the function\n",
        "if __name__ == \"__main__\":\n",
        "    reverse_string()"
      ],
      "metadata": {
        "colab": {
          "base_uri": "https://localhost:8080/"
        },
        "id": "YNAfua83uEjq",
        "outputId": "bb16a5bf-2803-4e87-db4c-a90e88114864"
      },
      "execution_count": 32,
      "outputs": [
        {
          "output_type": "stream",
          "name": "stdout",
          "text": [
            "Enter a string to reverse: Satyanarayan Pal\n",
            "Reversed string: laP nayaranaytaS\n"
          ]
        }
      ]
    },
    {
      "cell_type": "code",
      "source": [
        "# Function to calculate the factorial of a number using a while loop\n",
        "def calculate_factorial():\n",
        "    # Get user input\n",
        "    user_input = input(\"Enter a non-negative integer: \")\n",
        "\n",
        "    try:\n",
        "        # Convert input to an integer\n",
        "        number = int(user_input)\n",
        "\n",
        "        # Check if the number is non-negative\n",
        "        if number < 0:\n",
        "            print(\"Error: Factorial is not defined for negative numbers.\")\n",
        "            return\n",
        "\n",
        "        # Initialize variables\n",
        "        factorial = 1\n",
        "        count = 1\n",
        "\n",
        "        # Calculate factorial using a while loop\n",
        "        while count <= number:\n",
        "            factorial *= count  # Multiply the current count to the factorial\n",
        "            count += 1  # Increment count\n",
        "\n",
        "        # Print the result\n",
        "        print(f\"The factorial of {number} is: {factorial}\")\n",
        "\n",
        "    except ValueError:\n",
        "        print(\"Error: Please enter a valid non-negative integer.\")\n",
        "\n",
        "# Call the function\n",
        "if __name__ == \"__main__\":\n",
        "    calculate_factorial()"
      ],
      "metadata": {
        "colab": {
          "base_uri": "https://localhost:8080/"
        },
        "id": "6GJkjkX2uXqk",
        "outputId": "b538a275-5007-4c73-e8bf-10f6cc530aa1"
      },
      "execution_count": 33,
      "outputs": [
        {
          "output_type": "stream",
          "name": "stdout",
          "text": [
            "Enter a non-negative integer: 10\n",
            "The factorial of 10 is: 3628800\n"
          ]
        }
      ]
    },
    {
      "cell_type": "code",
      "source": [],
      "metadata": {
        "id": "FNeFi7Isu4M8"
      },
      "execution_count": null,
      "outputs": []
    }
  ]
}